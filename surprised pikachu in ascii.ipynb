{
 "cells": [
  {
   "cell_type": "code",
   "execution_count": 129,
   "metadata": {},
   "outputs": [
    {
     "data": {
      "image/png": "[encoded data removed]",
      "text/plain": [
       "<Figure size 432x288 with 1 Axes>"
      ]
     },
     "metadata": {
      "needs_background": "light"
     },
     "output_type": "display_data"
    }
   ],
   "source": [
    "import numpy as np\n",
    "import matplotlib.pyplot as plt\n",
    "import matplotlib.image as mpimg\n",
    "import sys\n",
    "\n",
    "def rgb2gray(rgb):\n",
    "    return np.dot(rgb[...,:3], [0.299, 0.587, 0.114])\n",
    "# convert to gray scale\n",
    "img = mpimg.imread('test.png')     \n",
    "gray = rgb2gray(img)    \n",
    "plt.imshow(gray, cmap = plt.get_cmap('gray'))\n",
    "plt.show()"
   ]
  },
  {
   "cell_type": "code",
   "execution_count": 130,
   "metadata": {},
   "outputs": [
    {
     "data": {
      "text/plain": [
       "491"
      ]
     },
     "execution_count": 130,
     "metadata": {},
     "output_type": "execute_result"
    }
   ],
   "source": [
    "len(gray)"
   ]
  },
  {
   "cell_type": "code",
   "execution_count": 131,
   "metadata": {},
   "outputs": [
    {
     "data": {
      "text/plain": [
       "625"
      ]
     },
     "execution_count": 131,
     "metadata": {},
     "output_type": "execute_result"
    }
   ],
   "source": [
    "len(gray[0])"
   ]
  },
  {
   "cell_type": "code",
   "execution_count": 169,
   "metadata": {},
   "outputs": [
    {
     "data": {
      "text/plain": [
       "(491, 625)"
      ]
     },
     "execution_count": 169,
     "metadata": {},
     "output_type": "execute_result"
    }
   ],
   "source": [
    "a = gray.copy()\n",
    "a.shape"
   ]
  },
  {
   "cell_type": "code",
   "execution_count": 170,
   "metadata": {},
   "outputs": [
    {
     "data": {
      "text/plain": [
       "(490, 600)"
      ]
     },
     "execution_count": 170,
     "metadata": {},
     "output_type": "execute_result"
    }
   ],
   "source": [
    "a = a[0:490, 0:600]\n",
    "h, w = a.shape\n",
    "a.shape"
   ]
  },
  {
   "cell_type": "code",
   "execution_count": 171,
   "metadata": {},
   "outputs": [
    {
     "data": {
      "text/plain": [
       "(49, 60)"
      ]
     },
     "execution_count": 171,
     "metadata": {},
     "output_type": "execute_result"
    }
   ],
   "source": [
    "# reduce size \n",
    "f = 10\n",
    "b = np.zeros((h//f, w//f))\n",
    "b.shape"
   ]
  },
  {
   "cell_type": "code",
   "execution_count": 172,
   "metadata": {},
   "outputs": [],
   "source": [
    "for i in range(h//f):\n",
    "    for j in range(w//f):\n",
    "        b[i, j] = np.mean(a[i*f: i*f+f, j*f:j*f+f])\n"
   ]
  },
  {
   "cell_type": "code",
   "execution_count": 173,
   "metadata": {},
   "outputs": [
    {
     "data": {
      "text/plain": [
       "(49, 60)"
      ]
     },
     "execution_count": 173,
     "metadata": {},
     "output_type": "execute_result"
    }
   ],
   "source": [
    "b.shape"
   ]
  },
  {
   "cell_type": "code",
   "execution_count": 176,
   "metadata": {},
   "outputs": [],
   "source": [
    "def getChar(n):\n",
    "    if n > 0.7:\n",
    "        return ' '\n",
    "    if n < 0.3:\n",
    "        return '*'\n",
    "    else:\n",
    "        return '.'\n",
    "    "
   ]
  },
  {
   "cell_type": "code",
   "execution_count": 177,
   "metadata": {
    "scrolled": true
   },
   "outputs": [
    {
     "name": "stdout",
     "output_type": "stream",
     "text": [
      "............******..........................................\n",
      ".............*****..........................................\n",
      "............................................................\n",
      "............................................................\n",
      ".......***..................................................\n",
      ".......****.................................................\n",
      ".......***. ................................................\n",
      "......****.   ..............................................\n",
      ".........*.     ............................................\n",
      ".........*.       ............................***********.. \n",
      "..........*        ...........................********..    \n",
      "..........*.         .........................******..      \n",
      "............          .........................***.         \n",
      "............           ..........................           \n",
      ".............            ......................             \n",
      "............*.            ...................              .\n",
      "............*.            .....           .                *\n",
      "............**.                                           .*\n",
      "...........****.                                         ...\n",
      "...........*****.                                        ...\n",
      "........*********.  .                                   ....\n",
      "..****************...                                 ......\n",
      "..*****************.                              .. .......\n",
      ".*****************.                                .........\n",
      ".*****************.                                 ........\n",
      ".****************.      ...               ...       ........\n",
      "****************..     . .*.             . .*        .......\n",
      "***************.*.     . .*.             . .*.       .......\n",
      "**************...      .***.             ****.       .*.....\n",
      "**************...      .***              .**.         ...***\n",
      "**************.*.       ..                ..          .*****\n",
      "**************..               ...                    .*****\n",
      "**************..  ..           ....            ..      *****\n",
      "*************.........                        .....    .****\n",
      "************..........                       .......   .....\n",
      "**********.............          ...         .......   .....\n",
      "*.............. ......         ......        .......    ....\n",
      "................ .....        ........       .......    ....\n",
      "................              ........        .....     ....\n",
      "................              ........                  ....\n",
      "................               .......                   ...\n",
      ".................               .....                    ...\n",
      ".................                                        ...\n",
      "..................                                       ...\n",
      "..................                                       ...\n",
      "...................                                      ...\n",
      "...................                                       ..\n",
      "...................                                       ..\n",
      ".................*                                        ..\n"
     ]
    }
   ],
   "source": [
    "# print\n",
    "for a in b:\n",
    "    for j in a:\n",
    "        c = getChar(float(j))\n",
    "        if c is None:\n",
    "            print(f\"{j}\")\n",
    "        else:\n",
    "            sys.stdout.write(getChar(j))\n",
    "    print(\"\")"
   ]
  },
  {
   "cell_type": "code",
   "execution_count": null,
   "metadata": {},
   "outputs": [],
   "source": []
  }
 ],
 "metadata": {
  "kernelspec": {
   "display_name": "Python 3",
   "language": "python",
   "name": "python3"
  },
  "language_info": {
   "codemirror_mode": {
    "name": "ipython",
    "version": 3
   },
   "file_extension": ".py",
   "mimetype": "text/x-python",
   "name": "python",
   "nbconvert_exporter": "python",
   "pygments_lexer": "ipython3",
   "version": "3.7.1"
  }
 },
 "nbformat": 4,
 "nbformat_minor": 2
}
